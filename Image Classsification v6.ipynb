{
 "cells": [
  {
   "cell_type": "markdown",
   "metadata": {},
   "source": [
    "# Neural Network Image Processing"
   ]
  },
  {
   "cell_type": "markdown",
   "metadata": {},
   "source": [
    "**Standard imports**"
   ]
  },
  {
   "cell_type": "code",
   "execution_count": 164,
   "metadata": {
    "collapsed": true
   },
   "outputs": [],
   "source": [
    "import pandas as pd\n",
    "import numpy as np\n",
    "import matplotlib.pyplot as plt\n",
    "import seaborn as sns\n",
    "import os\n",
    "import csv\n",
    "from pathlib import Path\n",
    "from itertools import islice\n",
    "%matplotlib inline"
   ]
  },
  {
   "cell_type": "markdown",
   "metadata": {},
   "source": [
    "**Specify the top level folder with the labelled images**"
   ]
  },
  {
   "cell_type": "code",
   "execution_count": 165,
   "metadata": {},
   "outputs": [
    {
     "name": "stdout",
     "output_type": "stream",
     "text": [
      "47\n",
      "C:\\Users\\neil.cameron\\OneDrive - McLaren Technology Group\\07 Labelled Images\\2018\\GP01-Astl\\1-McL Australia 2018 Day 1\\labeled_images.csv\n"
     ]
    }
   ],
   "source": [
    "# Mac:\n",
    "# csv_root = Path('/Users/Neil/Dropbox/Documents/Apple and Python Scripts/F1 Image Labelling Py/07 Labelled Images/2018/GP03-Chin/3-McL China 2018 Day 4')\n",
    "# csv_root = Path('/Users/Neil/Dropbox/Documents/Apple and Python Scripts/F1 Image Labelling Py/07 Labelled Images')\n",
    "\n",
    "# Windows\n",
    "# csv_root = Path(r'C:\\Users\\neil.cameron\\OneDrive - McLaren Technology Group\\07 Labelled Images\\2018\\GP03-Chin\\3-McL China 2018 Day 4')\n",
    "csv_root = Path(r'C:\\Users\\neil.cameron\\OneDrive - McLaren Technology Group\\07 Labelled Images')\n",
    "\n",
    "# Digital Ocean:\n",
    "# csv_root = Path('/home/neil/datascience/imagelbl/07 Labelled Images/2018/GP03-Chin/3-McL China 2018 Day 4')\n",
    "# csv_root = Path('/home/neil/datascience/imagelbl/07 Labelled Images')\n",
    "\n",
    "csv_lst = list(csv_root.glob('**/labeled_images.csv'))\n",
    "print(len(csv_lst))\n",
    "print(csv_lst[0])"
   ]
  },
  {
   "cell_type": "markdown",
   "metadata": {},
   "source": [
    "**Function for reading each csv file and building a list of file paths and labels**"
   ]
  },
  {
   "cell_type": "code",
   "execution_count": 166,
   "metadata": {
    "collapsed": true
   },
   "outputs": [],
   "source": [
    "def read_file(load_file):\n",
    "    '''\n",
    "    Make some python lists of the paths and labels from an image labelling csv\n",
    "    '''\n",
    "    original_images_list = []\n",
    "    scaled_images_list = []\n",
    "    lbl_list_fr_file = []\n",
    "\n",
    "    with open(load_file) as file:\n",
    "        read_file = csv.reader(file, delimiter=',')\n",
    "        for row in islice(read_file, 1, None):\n",
    "            labels_content = row[3:][0].split(', ') # Take the comma separated values for label and split them into a list\n",
    "            if labels_content[0]: # Only include images that have at least one label\n",
    "                lbl_list_fr_file.append(labels_content)\n",
    "                original_images_list.append(row[1])\n",
    "                scaled_images_list.append(row[2])                \n",
    "    return(original_images_list, scaled_images_list, lbl_list_fr_file)"
   ]
  },
  {
   "cell_type": "code",
   "execution_count": 167,
   "metadata": {
    "collapsed": true
   },
   "outputs": [],
   "source": [
    "original_images_list = []\n",
    "scaled_images_list = []\n",
    "lbl_list_fr_file = []\n",
    "\n",
    "for file in csv_lst:    \n",
    "    original_images_list_add, scaled_images_list_add, lbl_list_fr_file_add = read_file(file)\n",
    "    original_images_list.extend(original_images_list_add)\n",
    "    scaled_images_list.extend(scaled_images_list_add)\n",
    "    lbl_list_fr_file.extend(lbl_list_fr_file_add)"
   ]
  },
  {
   "cell_type": "code",
   "execution_count": 168,
   "metadata": {},
   "outputs": [
    {
     "name": "stdout",
     "output_type": "stream",
     "text": [
      "2229\n",
      "\\\\mrl-plfile01\\Aero\\Track Photos\\2018\\GP01-Astl\\3-McL Australia 2018 Day 3\\07-Haas\\_BT15743.JPG\n",
      "C:\\Users\\neil.cameron\\OneDrive - McLaren Technology Group\\07 Labelled Images\\2018\\GP01-Astl\\3-McL Australia 2018 Day 3\\07-Haas\\_BT15743.JPG\n",
      "['Haas', 'Front_Suspension', 'Garage']\n"
     ]
    }
   ],
   "source": [
    "# An example of the output in the labels list\n",
    "print(len(scaled_images_list))\n",
    "print(original_images_list[0])\n",
    "print(scaled_images_list[0])\n",
    "print(lbl_list_fr_file[0])"
   ]
  },
  {
   "cell_type": "markdown",
   "metadata": {},
   "source": [
    "**Filter down the list of images and build an array of dictionary entries with paths to pictures for analysis vs labels**"
   ]
  },
  {
   "cell_type": "code",
   "execution_count": 169,
   "metadata": {},
   "outputs": [
    {
     "name": "stdout",
     "output_type": "stream",
     "text": [
      "{'Scaled Image Path': 'C:\\\\Users\\\\neil.cameron\\\\OneDrive - McLaren Technology Group\\\\07 Labelled Images\\\\2018\\\\GP01-Astl\\\\3-McL Australia 2018 Day 3\\\\07-Haas\\\\_BT15787.JPG', 'Team Name': 'Haas', 'Team': 7}\n",
      "945\n"
     ]
    }
   ],
   "source": [
    "# Set these arrays to filter the training images down to only specific matches\n",
    "# ['Front_Wing', 'Rear_Wing', 'Chassis', 'Front_Suspension', 'Rear_Suspension', 'Floor', 'Engine', 'Maincase', 'Internals', 'Front_Brake_Duct', 'Rear_Brake_Duct', 'Ride_Height', 'Dead_Rear', 'Above', 'Garage', 'Track', 'Pick']\n",
    "lbls_to_match = ['Ride_Height', 'Dead_Rear', 'Above', 'Track', 'Front_Wing', 'Rear_Wing']\n",
    "teams_lst = ['Mercedes', 'Red_Bull', 'Ferrari', 'Force_India', 'Williams', 'McLaren', 'Haas', 'Torro_Rosso', 'Renault', 'Sauber']\n",
    "\n",
    "# Translation dictionary from teams to ints\n",
    "#dict = {'Mercedes':1, 'Red_Bull':2, 'Ferrari':3, 'Force_India':4, 'Williams':5, 'McLaren':6, 'Haas':7, 'Torro_Rosso':8, 'Renault':9, 'Sauber':0}\n",
    "teams_dict_vals = list(range(1,10))\n",
    "teams_dict_vals.append(0)\n",
    "teams_dict = dict(zip(teams_lst, teams_dict_vals))\n",
    "\n",
    "keys = ['Scaled Image Path', 'Team Name', 'Team']\n",
    "path_label_dictlist = []\n",
    "\n",
    "for i, item in enumerate(lbl_list_fr_file):\n",
    "    if list(set(item).intersection(lbls_to_match)) and list(set(item).intersection(teams_lst)): # Only items with lables in common with the lbls_to_match\n",
    "        team_name = list(set(item).intersection(teams_lst)) # Only lables that intersect with team labels\n",
    "        team = teams_dict[team_name[0]]\n",
    "        path_label_dictlist.append({keys[0]: scaled_images_list[i], keys[1]: team_name[0], keys[2]: team})\n",
    "        \n",
    "print(path_label_dictlist[1])\n",
    "print(len(path_label_dictlist))"
   ]
  },
  {
   "cell_type": "markdown",
   "metadata": {},
   "source": [
    "**Make the image path independent of operating system**"
   ]
  },
  {
   "cell_type": "code",
   "execution_count": 170,
   "metadata": {},
   "outputs": [],
   "source": [
    "def repath(path, csv_root):\n",
    "    '''\n",
    "    Take some hard-coded paths (like in a labeled images csv document) and point them to a new root. This is needed to run this script on different operating systems where the scaled images are stored in a different location than where the initial image labelling was done.\n",
    "    '''    \n",
    "    csv_root_lst = list(csv_root.parts)\n",
    "    path_lst = list(Path(path).parts)\n",
    "    remainder = Path(*[item for item in path_lst if item not in csv_root_lst])\n",
    "    output_path = Path(csv_root, remainder)\n",
    "    return output_path"
   ]
  },
  {
   "cell_type": "code",
   "execution_count": 171,
   "metadata": {},
   "outputs": [
    {
     "name": "stdout",
     "output_type": "stream",
     "text": [
      "{'Scaled Image Path': 'C:\\\\Users\\\\neil.cameron\\\\OneDrive - McLaren Technology Group\\\\07 Labelled Images\\\\2018\\\\GP01-Astl\\\\3-McL Australia 2018 Day 3\\\\07-Haas\\\\_BT15787.JPG', 'Team Name': 'Haas', 'Team': 7}\n",
      "{'Scaled Image Path': WindowsPath('C:/Users/neil.cameron/OneDrive - McLaren Technology Group/07 Labelled Images/2018/GP01-Astl/3-McL Australia 2018 Day 3/07-Haas/_BT15787.JPG'), 'Team Name': 'Haas', 'Team': 7}\n"
     ]
    }
   ],
   "source": [
    "print(path_label_dictlist[1])\n",
    "for item in path_label_dictlist:\n",
    "    item['Scaled Image Path'] = repath(item['Scaled Image Path'], csv_root)\n",
    "print(path_label_dictlist[1])"
   ]
  },
  {
   "cell_type": "markdown",
   "metadata": {},
   "source": [
    "**Further resizing of image data and stack it as an np array**"
   ]
  },
  {
   "cell_type": "code",
   "execution_count": 172,
   "metadata": {},
   "outputs": [
    {
     "name": "stdout",
     "output_type": "stream",
     "text": [
      "JPEG (1000, 666) RGB\n"
     ]
    }
   ],
   "source": [
    "from PIL import Image\n",
    "\n",
    "im = Image.open(path_label_dictlist[1]['Scaled Image Path'])\n",
    "#im.show()\n",
    "print(im.format, im.size, im.mode) # Details before resize"
   ]
  },
  {
   "cell_type": "code",
   "execution_count": 173,
   "metadata": {
    "collapsed": true
   },
   "outputs": [],
   "source": [
    "def resize(path, size):\n",
    "    '''\n",
    "    Scaled an image at a specific path down to a square of a specific size\n",
    "    '''\n",
    "    im = Image.open(path)\n",
    "    resized = np.array(im.resize((size, size), resample=Image.LANCZOS))\n",
    "    return resized"
   ]
  },
  {
   "cell_type": "code",
   "execution_count": 174,
   "metadata": {
    "collapsed": true
   },
   "outputs": [],
   "source": [
    "new_size = 50\n",
    "im_stack = []\n",
    "lbl_stack = []\n",
    "for row in path_label_dictlist:\n",
    "    im_stack.append(resize(Path(row['Scaled Image Path']), new_size))\n",
    "    lbl_stack.append(row['Team'])\n",
    "im_stack = np.array(im_stack)\n",
    "lbl_stack = np.array(lbl_stack)"
   ]
  },
  {
   "cell_type": "code",
   "execution_count": 175,
   "metadata": {},
   "outputs": [
    {
     "data": {
      "text/plain": [
       "(945, 50, 50, 3)"
      ]
     },
     "execution_count": 175,
     "metadata": {},
     "output_type": "execute_result"
    }
   ],
   "source": [
    "np.shape(im_stack)"
   ]
  },
  {
   "cell_type": "markdown",
   "metadata": {},
   "source": [
    "**Shuffle and train test split**"
   ]
  },
  {
   "cell_type": "code",
   "execution_count": 176,
   "metadata": {},
   "outputs": [
    {
     "name": "stdout",
     "output_type": "stream",
     "text": [
      "(945, 50, 50, 3)\n",
      "(945,)\n"
     ]
    }
   ],
   "source": [
    "#np.random.shuffle(im_stack)\n",
    "\n",
    "from sklearn.utils import shuffle\n",
    "im_stack, lbl_stack = shuffle(im_stack, lbl_stack, random_state=0)\n",
    "print(np.shape(im_stack))\n",
    "print(np.shape(lbl_stack))"
   ]
  },
  {
   "cell_type": "code",
   "execution_count": 177,
   "metadata": {},
   "outputs": [
    {
     "name": "stdout",
     "output_type": "stream",
     "text": [
      "661\n",
      "284\n"
     ]
    }
   ],
   "source": [
    "test_percent = 0.3\n",
    "no_images = int(np.shape(im_stack)[0])\n",
    "train_slice = int((1-test_percent)*no_images)\n",
    "test_slice = no_images - train_slice\n",
    "print(train_slice)\n",
    "print(test_slice)"
   ]
  },
  {
   "cell_type": "code",
   "execution_count": 178,
   "metadata": {},
   "outputs": [
    {
     "name": "stdout",
     "output_type": "stream",
     "text": [
      "(661, 50, 50, 3) and (661,)\n"
     ]
    }
   ],
   "source": [
    "im_stack_train = im_stack[:train_slice]\n",
    "lbl_stack_train = lbl_stack[:train_slice]\n",
    "im_stack_test = im_stack[-test_slice:]\n",
    "lbl_stack_test = lbl_stack[-test_slice:]\n",
    "print('{0} and {1}'.format(str(np.shape(im_stack_train)), str(np.shape(lbl_stack_train))))"
   ]
  },
  {
   "cell_type": "markdown",
   "metadata": {},
   "source": [
    "**Open an expample image**"
   ]
  },
  {
   "cell_type": "code",
   "execution_count": 179,
   "metadata": {},
   "outputs": [
    {
     "data": {
      "text/plain": [
       "<matplotlib.image.AxesImage at 0x9ecaef0>"
      ]
     },
     "execution_count": 179,
     "metadata": {},
     "output_type": "execute_result"
    },
    {
     "data": {
      "image/png": "[encoded data removed]",
      "text/plain": [
       "<Figure size 432x288 with 1 Axes>"
      ]
     },
     "metadata": {},
     "output_type": "display_data"
    }
   ],
   "source": [
    "plt.imshow(im_stack[0])"
   ]
  },
  {
   "cell_type": "markdown",
   "metadata": {
    "collapsed": true
   },
   "source": [
    "**Helper functions**"
   ]
  },
  {
   "cell_type": "code",
   "execution_count": 180,
   "metadata": {
    "collapsed": true
   },
   "outputs": [],
   "source": [
    "def one_hot_encode(vec, vals=len(teams_lst)):\n",
    "    '''\n",
    "    One-hot encodes all of the possible labels\n",
    "    '''\n",
    "    n = len(vec)\n",
    "    out = np.zeros((n, vals))\n",
    "    out[range(n), vec] = 1\n",
    "    return out"
   ]
  },
  {
   "cell_type": "code",
   "execution_count": 181,
   "metadata": {
    "collapsed": true
   },
   "outputs": [],
   "source": [
    "class ImageBatcher():\n",
    "    \n",
    "    def __init__(self):\n",
    "        self.i = 0\n",
    "        \n",
    "        self.im_stack_train = im_stack_train\n",
    "        self.lbl_stack_train = lbl_stack_train\n",
    "        self.im_stack_test = im_stack_test\n",
    "        self.lbl_stack_test = lbl_stack_test        \n",
    "        \n",
    "        print(np.shape(lbl_stack_train))\n",
    "    \n",
    "    def set_up_images(self):\n",
    "        \n",
    "        print(\"Setting Up Training Images and Labels\")\n",
    "        train_len = len(self.im_stack_train)\n",
    "        self.im_stack_train = im_stack_train/255\n",
    "        self.lbl_stack_train = one_hot_encode(lbl_stack_train)#, 10)\n",
    "        \n",
    "        print(np.shape(self.lbl_stack_train))\n",
    "        \n",
    "        print(\"Setting Up Test Images and Labels\")\n",
    "        test_len = len(self.im_stack_test)\n",
    "        self.im_stack_test = im_stack_test/255\n",
    "        self.lbl_stack_test = one_hot_encode(lbl_stack_test)#, 10)\n",
    "                \n",
    "    def next_batch(self, batch_size):\n",
    "        x = self.im_stack_train[self.i:self.i+batch_size]\n",
    "        y = self.lbl_stack_train[self.i:self.i+batch_size]\n",
    "        self.i = (self.i + batch_size) % len(self.im_stack_train)\n",
    "        return x, y"
   ]
  },
  {
   "cell_type": "code",
   "execution_count": 182,
   "metadata": {},
   "outputs": [
    {
     "name": "stdout",
     "output_type": "stream",
     "text": [
      "(661,)\n",
      "Setting Up Training Images and Labels\n",
      "(661, 10)\n",
      "Setting Up Test Images and Labels\n"
     ]
    }
   ],
   "source": [
    "# Before Your tf.Session run these two lines\n",
    "ib = ImageBatcher()\n",
    "ib.set_up_images()\n",
    "\n",
    "# During your session to grab the next batch use this line\n",
    "# batch = ib.next_batch(100)"
   ]
  },
  {
   "cell_type": "markdown",
   "metadata": {
    "collapsed": true
   },
   "source": [
    "**Model helper functions**"
   ]
  },
  {
   "cell_type": "code",
   "execution_count": 183,
   "metadata": {
    "collapsed": true
   },
   "outputs": [],
   "source": [
    "import tensorflow as tf"
   ]
  },
  {
   "cell_type": "code",
   "execution_count": 184,
   "metadata": {
    "collapsed": true
   },
   "outputs": [],
   "source": [
    "x = tf.placeholder(tf.float32,shape=[None,new_size,new_size,3])\n",
    "y_true = tf.placeholder(tf.float32,shape=[None,len(teams_lst)])"
   ]
  },
  {
   "cell_type": "code",
   "execution_count": 185,
   "metadata": {
    "collapsed": true
   },
   "outputs": [],
   "source": [
    "# Placeholder to hold a single probability for the dropout\n",
    "hold_prob = tf.placeholder(tf.float32)"
   ]
  },
  {
   "cell_type": "code",
   "execution_count": 186,
   "metadata": {
    "collapsed": true
   },
   "outputs": [],
   "source": [
    "# Setup the network\n",
    "\n",
    "def init_weights(shape):\n",
    "    init_random_dist = tf.truncated_normal(shape, stddev=0.1)\n",
    "    return tf.Variable(init_random_dist)\n",
    "\n",
    "def init_bias(shape):\n",
    "    init_bias_vals = tf.constant(0.1, shape=shape)\n",
    "    return tf.Variable(init_bias_vals)\n",
    "\n",
    "def conv2d(x, W):\n",
    "    return tf.nn.conv2d(x, W, strides=[1, 1, 1, 1], padding='SAME')\n",
    "\n",
    "def max_pool_2by2(x):\n",
    "    return tf.nn.max_pool(x, ksize=[1, 2, 2, 1],\n",
    "                          strides=[1, 2, 2, 1], padding='SAME')\n",
    "\n",
    "def convolutional_layer(input_x, shape):\n",
    "    W = init_weights(shape)\n",
    "    b = init_bias([shape[3]])\n",
    "    return tf.nn.relu(conv2d(input_x, W) + b)\n",
    "\n",
    "def normal_full_layer(input_layer, size):\n",
    "    input_size = int(input_layer.get_shape()[1])\n",
    "    W = init_weights([input_size, size])\n",
    "    b = init_bias([size])\n",
    "    \n",
    "    return tf.matmul(input_layer, W) + b"
   ]
  },
  {
   "cell_type": "markdown",
   "metadata": {
    "collapsed": true
   },
   "source": [
    "**Creating the Layers**"
   ]
  },
  {
   "cell_type": "code",
   "execution_count": 187,
   "metadata": {},
   "outputs": [
    {
     "name": "stdout",
     "output_type": "stream",
     "text": [
      "(?, 50, 50, 32)\n",
      "(?, 25, 25, 32)\n"
     ]
    }
   ],
   "source": [
    "convo_1 = convolutional_layer(x,shape=[4,4,3,32]) # Size x size of filer, number of input channels, number of features out\n",
    "print(np.shape(convo_1))\n",
    "convo_1_pooling = max_pool_2by2(convo_1)\n",
    "print(np.shape(convo_1_pooling))"
   ]
  },
  {
   "cell_type": "code",
   "execution_count": 188,
   "metadata": {},
   "outputs": [
    {
     "name": "stdout",
     "output_type": "stream",
     "text": [
      "(?, 25, 25, 64)\n",
      "(?, 13, 13, 64)\n"
     ]
    }
   ],
   "source": [
    "convo_2 = convolutional_layer(convo_1_pooling,shape=[4,4,32,64]) # Size x size of filer, number of input channels from previous layer, number of features out\n",
    "print(np.shape(convo_2))\n",
    "convo_2_pooling = max_pool_2by2(convo_2)\n",
    "print(np.shape(convo_2_pooling))"
   ]
  },
  {
   "cell_type": "code",
   "execution_count": 189,
   "metadata": {},
   "outputs": [
    {
     "name": "stdout",
     "output_type": "stream",
     "text": [
      "(?, 10816)\n"
     ]
    }
   ],
   "source": [
    "convo_2_flat = tf.reshape(convo_2_pooling,[-1, 13*13*64]) #108160]) # Fully connected output 13 x 13 x 64\n",
    "print(np.shape(convo_2_flat))"
   ]
  },
  {
   "cell_type": "code",
   "execution_count": 190,
   "metadata": {},
   "outputs": [
    {
     "name": "stdout",
     "output_type": "stream",
     "text": [
      "(?, 512)\n"
     ]
    }
   ],
   "source": [
    "full_layer_one = tf.nn.relu(normal_full_layer(convo_2_flat,512)) # Your choice of how many neurons in final layer\n",
    "print(np.shape(full_layer_one))"
   ]
  },
  {
   "cell_type": "code",
   "execution_count": 191,
   "metadata": {},
   "outputs": [
    {
     "name": "stdout",
     "output_type": "stream",
     "text": [
      "(?, 512)\n"
     ]
    }
   ],
   "source": [
    "full_one_dropout = tf.nn.dropout(full_layer_one,keep_prob=hold_prob)\n",
    "print(np.shape(full_one_dropout))"
   ]
  },
  {
   "cell_type": "code",
   "execution_count": 192,
   "metadata": {},
   "outputs": [
    {
     "name": "stdout",
     "output_type": "stream",
     "text": [
      "(?, 10)\n"
     ]
    }
   ],
   "source": [
    "y_pred = normal_full_layer(full_one_dropout,10)\n",
    "print(np.shape(y_pred))"
   ]
  },
  {
   "cell_type": "markdown",
   "metadata": {},
   "source": [
    "**Loss function and optimizer**"
   ]
  },
  {
   "cell_type": "code",
   "execution_count": 193,
   "metadata": {
    "collapsed": true
   },
   "outputs": [],
   "source": [
    "cross_entropy = tf.reduce_mean(tf.nn.softmax_cross_entropy_with_logits_v2(labels=y_true,logits=y_pred))"
   ]
  },
  {
   "cell_type": "code",
   "execution_count": 194,
   "metadata": {
    "collapsed": true
   },
   "outputs": [],
   "source": [
    "optimizer = tf.train.AdamOptimizer(learning_rate=0.001)\n",
    "train = optimizer.minimize(cross_entropy)"
   ]
  },
  {
   "cell_type": "markdown",
   "metadata": {},
   "source": [
    "**Run**"
   ]
  },
  {
   "cell_type": "code",
   "execution_count": 195,
   "metadata": {
    "collapsed": true
   },
   "outputs": [],
   "source": [
    "init = tf.global_variables_initializer()"
   ]
  },
  {
   "cell_type": "code",
   "execution_count": 196,
   "metadata": {},
   "outputs": [
    {
     "name": "stdout",
     "output_type": "stream",
     "text": [
      "Currently on step 0\n",
      "Accuracy is:\n",
      "0.105634\n",
      "\n",
      "\n",
      "Currently on step 100\n",
      "Accuracy is:\n",
      "0.190141\n",
      "\n",
      "\n",
      "Currently on step 200\n",
      "Accuracy is:\n",
      "0.348592\n",
      "\n",
      "\n",
      "Currently on step 300\n",
      "Accuracy is:\n",
      "0.376761\n",
      "\n",
      "\n",
      "Currently on step 400\n",
      "Accuracy is:\n",
      "0.40493\n",
      "\n",
      "\n",
      "Currently on step 500\n",
      "Accuracy is:\n",
      "0.422535\n",
      "\n",
      "\n",
      "Currently on step 600\n",
      "Accuracy is:\n",
      "0.461268\n",
      "\n",
      "\n",
      "Currently on step 700\n",
      "Accuracy is:\n",
      "0.517606\n",
      "\n",
      "\n",
      "Currently on step 800\n",
      "Accuracy is:\n",
      "0.489437\n",
      "\n",
      "\n",
      "Currently on step 900\n",
      "Accuracy is:\n",
      "0.535211\n",
      "\n",
      "\n",
      "Currently on step 1000\n",
      "Accuracy is:\n",
      "0.53169\n",
      "\n",
      "\n",
      "Currently on step 1100\n",
      "Accuracy is:\n",
      "0.538732\n",
      "\n",
      "\n",
      "Currently on step 1200\n",
      "Accuracy is:\n",
      "0.598592\n",
      "\n",
      "\n",
      "Currently on step 1300\n",
      "Accuracy is:\n",
      "0.577465\n",
      "\n",
      "\n",
      "Currently on step 1400\n",
      "Accuracy is:\n",
      "0.626761\n",
      "\n",
      "\n",
      "Currently on step 1500\n",
      "Accuracy is:\n",
      "0.602113\n",
      "\n",
      "\n"
     ]
    }
   ],
   "source": [
    "with tf.Session() as sess:\n",
    "    sess.run(tf.global_variables_initializer())\n",
    "\n",
    "    for i in range(1600):\n",
    "        batch = ib.next_batch(10)\n",
    "        #print(np.shape(batch[0]))\n",
    "        #print(np.shape(batch[1]))\n",
    "        sess.run(train, feed_dict={x: batch[0], y_true: batch[1], hold_prob: 0.5})\n",
    "        \n",
    "        # Print progress every 100 steps\n",
    "        if i%100 == 0:\n",
    "            \n",
    "            print('Currently on step {}'.format(i))\n",
    "            print('Accuracy is:')\n",
    "            # Test the Train Model\n",
    "            matches = tf.equal(tf.argmax(y_pred,1),tf.argmax(y_true,1))\n",
    "\n",
    "            acc = tf.reduce_mean(tf.cast(matches,tf.float32))\n",
    "\n",
    "            print(sess.run(acc,feed_dict={x:ib.im_stack_test, y_true:ib.lbl_stack_test, hold_prob:1.0}))\n",
    "            print('\\n')"
   ]
  },
  {
   "cell_type": "code",
   "execution_count": null,
   "metadata": {
    "collapsed": true
   },
   "outputs": [],
   "source": []
  }
 ],
 "metadata": {
  "kernelspec": {
   "display_name": "Python 3",
   "language": "python",
   "name": "python3"
  },
  "language_info": {
   "codemirror_mode": {
    "name": "ipython",
    "version": 3
   },
   "file_extension": ".py",
   "mimetype": "text/x-python",
   "name": "python",
   "nbconvert_exporter": "python",
   "pygments_lexer": "ipython3",
   "version": "3.6.7"
  }
 },
 "nbformat": 4,
 "nbformat_minor": 1
}
